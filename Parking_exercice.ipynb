{
  "nbformat": 4,
  "nbformat_minor": 0,
  "metadata": {
    "colab": {
      "name": "Parking exercice.ipynb",
      "provenance": [],
      "include_colab_link": true
    },
    "kernelspec": {
      "name": "python3",
      "display_name": "Python 3"
    }
  },
  "cells": [
    {
      "cell_type": "markdown",
      "metadata": {
        "id": "view-in-github",
        "colab_type": "text"
      },
      "source": [
        "<a href=\"https://colab.research.google.com/github/waelCh/Q-Learning_Parking-Space-Search/blob/master/Parking_exercice.ipynb\" target=\"_parent\"><img src=\"https://colab.research.google.com/assets/colab-badge.svg\" alt=\"Open In Colab\"/></a>"
      ]
    },
    {
      "cell_type": "code",
      "metadata": {
        "id": "ESt-lv4gbP6v",
        "colab_type": "code",
        "colab": {}
      },
      "source": [
        "import matplotlib\n",
        "import matplotlib.pyplot as plt\n",
        "import numpy as np\n",
        "from tqdm import trange\n",
        "\n",
        "matplotlib.use('Agg')\n"
      ],
      "execution_count": 0,
      "outputs": []
    },
    {
      "cell_type": "code",
      "metadata": {
        "id": "TLEUsnDFpiNK",
        "colab_type": "code",
        "colab": {}
      },
      "source": [
        "# Actions definition\n",
        "\n",
        "GARER = 'g'\n",
        "CONTINUER = 'c'\n",
        "\n",
        "ACTIONS = [GARER, CONTINUER]"
      ],
      "execution_count": 0,
      "outputs": []
    },
    {
      "cell_type": "code",
      "metadata": {
        "id": "S8tR53YKsvo_",
        "colab_type": "code",
        "colab": {}
      },
      "source": [
        "class Parking:\n",
        "  def __init__(self, epsilon=0, parking_size=100):\n",
        "    self.epsilon = epsilon\n",
        "    self.parking_size = parking_size"
      ],
      "execution_count": 0,
      "outputs": []
    }
  ]
}