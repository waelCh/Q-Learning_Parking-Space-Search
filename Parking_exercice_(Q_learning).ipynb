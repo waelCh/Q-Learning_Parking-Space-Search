{
  "nbformat": 4,
  "nbformat_minor": 0,
  "metadata": {
    "colab": {
      "name": "Parking exercice (Q_learning).ipynb",
      "provenance": [],
      "collapsed_sections": [],
      "include_colab_link": true
    },
    "kernelspec": {
      "name": "python3",
      "display_name": "Python 3"
    }
  },
  "cells": [
    {
      "cell_type": "markdown",
      "metadata": {
        "id": "view-in-github",
        "colab_type": "text"
      },
      "source": [
        "<a href=\"https://colab.research.google.com/github/waelCh/Q-Learning_Parking-Space-Search/blob/master/Parking_exercice_(Q_learning).ipynb\" target=\"_parent\"><img src=\"https://colab.research.google.com/assets/colab-badge.svg\" alt=\"Open In Colab\"/></a>"
      ]
    },
    {
      "cell_type": "code",
      "metadata": {
        "id": "ESt-lv4gbP6v",
        "colab_type": "code",
        "colab": {}
      },
      "source": [
        "import matplotlib\n",
        "import matplotlib.pyplot as plt\n",
        "import numpy as np\n",
        "from tqdm import trange\n",
        "from random import randint, uniform, random\n",
        "\n",
        "matplotlib.use('Agg')\n",
        "random.seed(42)\n"
      ],
      "execution_count": 0,
      "outputs": []
    },
    {
      "cell_type": "code",
      "metadata": {
        "id": "TLEUsnDFpiNK",
        "colab_type": "code",
        "colab": {}
      },
      "source": [
        "# Actions definition\n",
        "\n",
        "GARER = 'g'\n",
        "CONTINUER = 'c'\n",
        "\n",
        "ACTIONS = [GARER, CONTINUER]"
      ],
      "execution_count": 0,
      "outputs": []
    },
    {
      "cell_type": "code",
      "metadata": {
        "id": "S8tR53YKsvo_",
        "colab_type": "code",
        "colab": {}
      },
      "source": [
        "class Parking:\n",
        "  def __init__(self, car_position, parking_size=100):\n",
        "    self.epsilon = epsilon\n",
        "    \n",
        "    self.parking_size = parking_size\n",
        "    # Generate random positions' state in the parking(0=free, 1=reserved)\n",
        "    self.parking_space = list([randint(0, 1) for i in range(self.parking_size)])\n",
        "\n",
        "  def reset(self):\n",
        "    self.parking_space = list([randint(0, 1) for i in range(self.parking_size)])\n",
        "\n",
        "  def place_availability(self, position):\n",
        "    return self.parking_space[position]"
      ],
      "execution_count": 0,
      "outputs": []
    },
    {
      "cell_type": "code",
      "metadata": {
        "id": "T9-rm6oavFZt",
        "colab_type": "code",
        "colab": {}
      },
      "source": [
        "class Car:\n",
        "  def __init__(self, epsilon=0):\n",
        "    self.epsilon = epsilon\n",
        "    q_table = dict()\n",
        "    print(\"Creating new Car\")\n",
        "\n",
        "  def q(self, state, action):\n",
        "    if state not in q_table:\n",
        "      q_table[state] = np.zeros(len(ACTIONS))\n",
        "    if action is None:\n",
        "        return q_table[state]\n",
        "    return q_table[state][action]\n",
        "\n",
        "  def choose_action(state):\n",
        "    if (uniform(0,1) < self.epsilon):\n",
        "      return random.choice(ACTIONS)\n",
        "    return np.argmax(q(state))\n",
        "  \n",
        "  def act(self, state, action):\n",
        "\n",
        "    return State()"
      ],
      "execution_count": 0,
      "outputs": []
    },
    {
      "cell_type": "code",
      "metadata": {
        "id": "FthhvetO7AdZ",
        "colab_type": "code",
        "colab": {}
      },
      "source": [
        "tt = dict()"
      ],
      "execution_count": 0,
      "outputs": []
    },
    {
      "cell_type": "code",
      "metadata": {
        "id": "d7cwhn2s7DeF",
        "colab_type": "code",
        "colab": {
          "base_uri": "https://localhost:8080/",
          "height": 34
        },
        "outputId": "741ebbb8-2def-45c0-ccf8-ee3b8df26b83"
      },
      "source": [
        "tt"
      ],
      "execution_count": 28,
      "outputs": [
        {
          "output_type": "execute_result",
          "data": {
            "text/plain": [
              "{}"
            ]
          },
          "metadata": {
            "tags": []
          },
          "execution_count": 28
        }
      ]
    }
  ]
}